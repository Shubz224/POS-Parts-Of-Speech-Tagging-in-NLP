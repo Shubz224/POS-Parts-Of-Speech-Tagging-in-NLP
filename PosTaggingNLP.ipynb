{
  "nbformat": 4,
  "nbformat_minor": 0,
  "metadata": {
    "colab": {
      "provenance": [],
      "include_colab_link": true
    },
    "kernelspec": {
      "name": "python3",
      "display_name": "Python 3"
    },
    "language_info": {
      "name": "python"
    }
  },
  "cells": [
    {
      "cell_type": "markdown",
      "metadata": {
        "id": "view-in-github",
        "colab_type": "text"
      },
      "source": [
        "<a href=\"https://colab.research.google.com/github/Shubz224/POS-Parts-Of-Speech-Tagging-in-NLP/blob/main/PosTaggingNLP.ipynb\" target=\"_parent\"><img src=\"https://colab.research.google.com/assets/colab-badge.svg\" alt=\"Open In Colab\"/></a>"
      ]
    },
    {
      "cell_type": "markdown",
      "source": [
        "# Step 1: Install & Import Required Libraries\n",
        "# Explanation:\n",
        "We need to install NLTK (Natural Language Toolkit) and import necessary modules. NLTK provides tools for working with human language data (text). We'll also import string for basic string operations and matplotlib/seaborn for visualizations."
      ],
      "metadata": {
        "id": "f-pvazH62lKa"
      }
    },
    {
      "cell_type": "code",
      "execution_count": null,
      "metadata": {
        "colab": {
          "base_uri": "https://localhost:8080/"
        },
        "id": "-RUGRBw22Xe4",
        "outputId": "fe99742f-78a2-4bad-a53d-b733613be85f"
      },
      "outputs": [
        {
          "output_type": "stream",
          "name": "stdout",
          "text": [
            "Requirement already satisfied: nltk in /usr/local/lib/python3.11/dist-packages (3.9.1)\n",
            "Requirement already satisfied: matplotlib in /usr/local/lib/python3.11/dist-packages (3.10.0)\n",
            "Requirement already satisfied: seaborn in /usr/local/lib/python3.11/dist-packages (0.13.2)\n",
            "Requirement already satisfied: click in /usr/local/lib/python3.11/dist-packages (from nltk) (8.1.8)\n",
            "Requirement already satisfied: joblib in /usr/local/lib/python3.11/dist-packages (from nltk) (1.4.2)\n",
            "Requirement already satisfied: regex>=2021.8.3 in /usr/local/lib/python3.11/dist-packages (from nltk) (2024.11.6)\n",
            "Requirement already satisfied: tqdm in /usr/local/lib/python3.11/dist-packages (from nltk) (4.67.1)\n",
            "Requirement already satisfied: contourpy>=1.0.1 in /usr/local/lib/python3.11/dist-packages (from matplotlib) (1.3.2)\n",
            "Requirement already satisfied: cycler>=0.10 in /usr/local/lib/python3.11/dist-packages (from matplotlib) (0.12.1)\n",
            "Requirement already satisfied: fonttools>=4.22.0 in /usr/local/lib/python3.11/dist-packages (from matplotlib) (4.57.0)\n",
            "Requirement already satisfied: kiwisolver>=1.3.1 in /usr/local/lib/python3.11/dist-packages (from matplotlib) (1.4.8)\n",
            "Requirement already satisfied: numpy>=1.23 in /usr/local/lib/python3.11/dist-packages (from matplotlib) (2.0.2)\n",
            "Requirement already satisfied: packaging>=20.0 in /usr/local/lib/python3.11/dist-packages (from matplotlib) (24.2)\n",
            "Requirement already satisfied: pillow>=8 in /usr/local/lib/python3.11/dist-packages (from matplotlib) (11.2.1)\n",
            "Requirement already satisfied: pyparsing>=2.3.1 in /usr/local/lib/python3.11/dist-packages (from matplotlib) (3.2.3)\n",
            "Requirement already satisfied: python-dateutil>=2.7 in /usr/local/lib/python3.11/dist-packages (from matplotlib) (2.9.0.post0)\n",
            "Requirement already satisfied: pandas>=1.2 in /usr/local/lib/python3.11/dist-packages (from seaborn) (2.2.2)\n",
            "Requirement already satisfied: pytz>=2020.1 in /usr/local/lib/python3.11/dist-packages (from pandas>=1.2->seaborn) (2025.2)\n",
            "Requirement already satisfied: tzdata>=2022.7 in /usr/local/lib/python3.11/dist-packages (from pandas>=1.2->seaborn) (2025.2)\n",
            "Requirement already satisfied: six>=1.5 in /usr/local/lib/python3.11/dist-packages (from python-dateutil>=2.7->matplotlib) (1.17.0)\n",
            "✓ Libraries installed & imported successfully!\n"
          ]
        }
      ],
      "source": [
        "# Install NLTK if not already installed\n",
        "!pip install nltk matplotlib seaborn\n",
        "\n",
        "# Import required libraries\n",
        "import nltk\n",
        "import string\n",
        "import matplotlib.pyplot as plt\n",
        "import seaborn as sns\n",
        "from nltk.corpus import indian\n",
        "from nltk.tag import tnt\n",
        "\n",
        "print(\"✓ Libraries installed & imported successfully!\")"
      ]
    },
    {
      "cell_type": "markdown",
      "source": [
        "# Step 2: Download NLTK Datasets\n",
        "# Explanation:\n",
        "NLTK requires specific datasets for Hindi language processing:\n",
        "\n",
        "punkt: For tokenization (splitting text into words/sentences)\n",
        "\n",
        "indian: Contains Hindi POS-tagged corpus for training"
      ],
      "metadata": {
        "id": "TEux2ec84Nqw"
      }
    },
    {
      "cell_type": "code",
      "source": [
        "# Download datasets\n",
        "nltk.download('punkt')\n",
        "nltk.download('indian')\n",
        "\n",
        "print(\"✓ NLTK datasets downloaded!\")"
      ],
      "metadata": {
        "colab": {
          "base_uri": "https://localhost:8080/"
        },
        "id": "cH5odODG4SmB",
        "outputId": "eef393ee-e83a-41f7-b98f-caaeae934dc9"
      },
      "execution_count": null,
      "outputs": [
        {
          "output_type": "stream",
          "name": "stdout",
          "text": [
            "✓ NLTK datasets downloaded!\n"
          ]
        },
        {
          "output_type": "stream",
          "name": "stderr",
          "text": [
            "[nltk_data] Downloading package punkt to /root/nltk_data...\n",
            "[nltk_data]   Package punkt is already up-to-date!\n",
            "[nltk_data] Downloading package indian to /root/nltk_data...\n",
            "[nltk_data]   Package indian is already up-to-date!\n"
          ]
        }
      ]
    },
    {
      "cell_type": "markdown",
      "source": [
        "# Step 3: Load & Explore Hindi Corpus\n",
        "# Explanation:\n",
        "We'll load the Hindi POS-tagged corpus and check basic statistics:\n",
        "\n",
        "Total sentences\n",
        "\n",
        "Example sentence\n",
        "\n",
        "Unique POS tags"
      ],
      "metadata": {
        "id": "MZuJBmFX4de6"
      }
    },
    {
      "cell_type": "code",
      "source": [
        "# Load Hindi corpus\n",
        "tagged_set = \"hindi.pos\"\n",
        "hindi_sentences = indian.sents(tagged_set)\n",
        "tagged_sentences = indian.tagged_sents(tagged_set)\n",
        "\n",
        "# Print stats\n",
        "print(f\"Total sentences: {len(hindi_sentences)}\")\n",
        "print(\"\\nExample sentence:\")\n",
        "print(tagged_sentences[0])  # Show first tagged sentence\n",
        "\n",
        "# Count unique POS tags\n",
        "all_tags = [tag for sentence in tagged_sentences for (_, tag) in sentence]\n",
        "print(f\"\\nUnique POS tags: {len(set(all_tags))}\")"
      ],
      "metadata": {
        "colab": {
          "base_uri": "https://localhost:8080/"
        },
        "id": "fQw2YUu84fLI",
        "outputId": "1911d99e-ee3a-4d38-be3c-5205310cdc78"
      },
      "execution_count": null,
      "outputs": [
        {
          "output_type": "stream",
          "name": "stdout",
          "text": [
            "Total sentences: 540\n",
            "\n",
            "Example sentence:\n",
            "[('पूर्ण', 'JJ'), ('प्रतिबंध', 'NN'), ('हटाओ', 'VFM'), (':', 'SYM'), ('इराक', 'NNP')]\n",
            "\n",
            "Unique POS tags: 26\n"
          ]
        }
      ]
    },
    {
      "cell_type": "markdown",
      "source": [
        "# Step 4: Visualize POS Tag Distribution\n",
        "# Explanation:\n",
        "Creates a bar chart showing frequency of the top 15 POS tags in the corpus. This helps understand which grammatical categories (nouns, verbs etc.) are most common."
      ],
      "metadata": {
        "id": "gjR5I8uL5EW3"
      }
    },
    {
      "cell_type": "code",
      "source": [
        "# Get tag frequencies\n",
        "tag_freq = nltk.FreqDist(all_tags)\n",
        "top_tags = tag_freq.most_common(15)\n",
        "\n",
        "# Create plot\n",
        "plt.figure(figsize=(10,5))\n",
        "sns.barplot(x=[count for (tag, count) in top_tags],\n",
        "            y=[tag for (tag, count) in top_tags],\n",
        "            palette=\"viridis\")\n",
        "\n",
        "plt.title(\"Top 15 POS Tags in Hindi Corpus\")\n",
        "plt.xlabel(\"Frequency\")\n",
        "plt.ylabel(\"POS Tag\")\n",
        "plt.show()"
      ],
      "metadata": {
        "colab": {
          "base_uri": "https://localhost:8080/",
          "height": 574
        },
        "id": "Sfqu9dPi5HAe",
        "outputId": "e5e545a9-6f93-472d-d6d9-c9b5613b2509"
      },
      "execution_count": null,
      "outputs": [
        {
          "output_type": "stream",
          "name": "stderr",
          "text": [
            "<ipython-input-26-657beb46f060>:7: FutureWarning: \n",
            "\n",
            "Passing `palette` without assigning `hue` is deprecated and will be removed in v0.14.0. Assign the `y` variable to `hue` and set `legend=False` for the same effect.\n",
            "\n",
            "  sns.barplot(x=[count for (tag, count) in top_tags],\n"
          ]
        },
        {
          "output_type": "display_data",
          "data": {
            "text/plain": [
              "<Figure size 1000x500 with 1 Axes>"
            ],
            "image/png": "[encoded data removed]"
          },
          "metadata": {}
        }
      ]
    },
    {
      "cell_type": "markdown",
      "source": [
        "# Step 5: Train the POS Tagger\n",
        "# Explanation:\n",
        "We'll:\n",
        "\n",
        "1. Split data into training (90%) and testing (10%)\n",
        "\n",
        "2. Train using TnT (Trigrams'n'Tags) algorithm\n",
        "\n",
        "3. Evaluate accuracy"
      ],
      "metadata": {
        "id": "To3L1aBL5Q-V"
      }
    },
    {
      "cell_type": "code",
      "source": [
        "# Split dataset\n",
        "train_size = int(0.9 * len(tagged_sentences))\n",
        "train_data = tagged_sentences[:train_size]\n",
        "test_data = tagged_sentences[train_size:]\n",
        "\n",
        "# Train TnT tagger\n",
        "pos_tagger = tnt.TnT()\n",
        "pos_tagger.train(train_data)\n",
        "\n",
        "# Evaluate\n",
        "accuracy = pos_tagger.evaluate(test_data)\n",
        "print(f\"Model Accuracy: {accuracy:.2%}\")"
      ],
      "metadata": {
        "colab": {
          "base_uri": "https://localhost:8080/"
        },
        "id": "ymiQcYnf5T1Y",
        "outputId": "fc12897a-d371-4fd5-9df4-48a8b2c9d348"
      },
      "execution_count": null,
      "outputs": [
        {
          "output_type": "stream",
          "name": "stderr",
          "text": [
            "<ipython-input-27-e74f5cb4afd8>:11: DeprecationWarning: \n",
            "  Function evaluate() has been deprecated.  Use accuracy(gold)\n",
            "  instead.\n",
            "  accuracy = pos_tagger.evaluate(test_data)\n"
          ]
        },
        {
          "output_type": "stream",
          "name": "stdout",
          "text": [
            "Model Accuracy: 81.11%\n"
          ]
        }
      ]
    },
    {
      "cell_type": "markdown",
      "source": [
        "# Step 6: Analyze Sentence Lengths\n",
        "# Explanation:\n",
        "Visualizes distribution of sentence lengths to understand corpus complexity using a histogram."
      ],
      "metadata": {
        "id": "dSWM_eTM5Xru"
      }
    },
    {
      "cell_type": "code",
      "source": [
        "# Calculate lengths\n",
        "sentence_lengths = [len(s) for s in hindi_sentences]\n",
        "\n",
        "# Plot\n",
        "plt.figure(figsize=(10,5))\n",
        "sns.histplot(sentence_lengths, bins=30, kde=True, color='purple')\n",
        "plt.title(\"Distribution of Sentence Lengths\")\n",
        "plt.xlabel(\"Words per Sentence\")\n",
        "plt.ylabel(\"Frequency\")\n",
        "plt.show()\n",
        "\n",
        "print(f\"Average length: {sum(sentence_lengths)/len(sentence_lengths):.1f} words\")"
      ],
      "metadata": {
        "colab": {
          "base_uri": "https://localhost:8080/",
          "height": 504
        },
        "id": "1ybpDZZn5Yry",
        "outputId": "8546ac73-1ab3-4c86-e8f7-d3a38c1b3791"
      },
      "execution_count": null,
      "outputs": [
        {
          "output_type": "display_data",
          "data": {
            "text/plain": [
              "<Figure size 1000x500 with 1 Axes>"
            ],
            "image/png": "[encoded data removed]"
          },
          "metadata": {}
        },
        {
          "output_type": "stream",
          "name": "stdout",
          "text": [
            "Average length: 17.4 words\n"
          ]
        }
      ]
    },
    {
      "cell_type": "markdown",
      "source": [
        "# Step 7: Tag a Sample Sentence\n",
        "# Explanation:\n",
        "Demonstrates the trained tagger on a new Hindi sentence with formatted output."
      ],
      "metadata": {
        "id": "Ru1SmUe75by3"
      }
    },
    {
      "cell_type": "code",
      "source": [
        "from IPython.display import HTML\n",
        "\n",
        "def colorize_tags(tagged_sentence):\n",
        "    html = \"\"\"\n",
        "    <style>\n",
        "    .tag-container {\n",
        "        font-family: 'Segoe UI', Tahoma, Geneva, Verdana, sans-serif;\n",
        "        line-height: 2.2;\n",
        "        font-size: 17px;\n",
        "        padding: 15px;\n",
        "        background: #f8f9fa;\n",
        "        border-radius: 8px;\n",
        "        box-shadow: 0 2px 5px rgba(0,0,0,0.1);\n",
        "        margin: 10px 0;\n",
        "    }\n",
        "    .tag-label {\n",
        "        display: inline-block;\n",
        "        margin: 2px;\n",
        "        padding: 4px 8px;\n",
        "        border-radius: 12px;\n",
        "        font-weight: 500;\n",
        "        transition: transform 0.2s;\n",
        "        box-shadow: 0 1px 3px rgba(0,0,0,0.1);\n",
        "    }\n",
        "    .tag-label:hover {\n",
        "        transform: translateY(-2px);\n",
        "        box-shadow: 0 4px 6px rgba(0,0,0,0.1);\n",
        "    }\n",
        "    .noun { background: #94e2d5; color: #1e3a3a; }\n",
        "    .verb { background: #f38ba8; color: #4a1e2a; }\n",
        "    .adj  { background: #f9e2af; color: #3a3a1e; }\n",
        "    .adv  { background: #89b4fa; color: #1e2a3a; }\n",
        "    .pronoun { background: #cba6f7; color: #2a1e3a; }\n",
        "    .postposition { background: #fab387; color: #3a2a1e; }\n",
        "    .punctuation { background: #9399b2; color: white; }\n",
        "    .default { background: #d9d9d9; color: #333; }\n",
        "    .tag-type {\n",
        "        font-size: 0.7em;\n",
        "        margin-left: 4px;\n",
        "        opacity: 0.8;\n",
        "        font-weight: normal;\n",
        "    }\n",
        "    .legend {\n",
        "        display: flex;\n",
        "        flex-wrap: wrap;\n",
        "        gap: 8px;\n",
        "        margin-bottom: 15px;\n",
        "        font-size: 14px;\n",
        "    }\n",
        "    .legend-item {\n",
        "        display: flex;\n",
        "        align-items: center;\n",
        "        margin-right: 10px;\n",
        "    }\n",
        "    .legend-color {\n",
        "        width: 16px;\n",
        "        height: 16px;\n",
        "        border-radius: 50%;\n",
        "        margin-right: 5px;\n",
        "        display: inline-block;\n",
        "    }\n",
        "    </style>\n",
        "\n",
        "    <div class=\"tag-container\">\n",
        "        <div class=\"legend\">\n",
        "            <div class=\"legend-item\"><span class=\"legend-color\" style=\"background: #94e2d5\"></span>Noun</div>\n",
        "            <div class=\"legend-item\"><span class=\"legend-color\" style=\"background: #f38ba8\"></span>Verb</div>\n",
        "            <div class=\"legend-item\"><span class=\"legend-color\" style=\"background: #f9e2af\"></span>Adjective</div>\n",
        "            <div class=\"legend-item\"><span class=\"legend-color\" style=\"background: #89b4fa\"></span>Adverb</div>\n",
        "            <div class=\"legend-item\"><span class=\"legend-color\" style=\"background: #cba6f7\"></span>Pronoun</div>\n",
        "            <div class=\"legend-item\"><span class=\"legend-color\" style=\"background: #fab387\"></span>Postposition</div>\n",
        "            <div class=\"legend-item\"><span class=\"legend-color\" style=\"background: #9399b2\"></span>Punctuation</div>\n",
        "            <div class=\"legend-item\"><span class=\"legend-color\" style=\"background: #d9d9d9\"></span>Other</div>\n",
        "        </div>\n",
        "    \"\"\"\n",
        "\n",
        "    for word, tag in tagged_sentence:\n",
        "        if tag.startswith('NN'):\n",
        "            html += f'<span class=\"tag-label noun\">{word}<span class=\"tag-type\">{tag}</span></span>'\n",
        "        elif tag.startswith('VM'):\n",
        "            html += f'<span class=\"tag-label verb\">{word}<span class=\"tag-type\">{tag}</span></span>'\n",
        "        elif tag.startswith('JJ'):\n",
        "            html += f'<span class=\"tag-label adj\">{word}<span class=\"tag-type\">{tag}</span></span>'\n",
        "        elif tag.startswith('RB'):\n",
        "            html += f'<span class=\"tag-label adv\">{word}<span class=\"tag-type\">{tag}</span></span>'\n",
        "        elif tag.startswith('PR'):\n",
        "            html += f'<span class=\"tag-label pronoun\">{word}<span class=\"tag-type\">{tag}</span></span>'\n",
        "        elif tag.startswith('PSP'):\n",
        "            html += f'<span class=\"tag-label postposition\">{word}<span class=\"tag-type\">{tag}</span></span>'\n",
        "        elif tag.startswith('SYM') or tag in [',', '.', '!', '?']:\n",
        "            html += f'<span class=\"tag-label punctuation\">{word}<span class=\"tag-type\">{tag}</span></span>'\n",
        "        else:\n",
        "            html += f'<span class=\"tag-label default\">{word}<span class=\"tag-type\">{tag}</span></span>'\n",
        "\n",
        "    html += \"</div>\"\n",
        "    return HTML(html)\n",
        "\n",
        "# Example usage\n",
        "sample = pos_tagger.tag(\"प्रधानमंत्री ने संसद में भाषण दिया\".split())\n",
        "colorize_tags(sample)"
      ],
      "metadata": {
        "colab": {
          "base_uri": "https://localhost:8080/",
          "height": 162
        },
        "id": "4peWDGUJ5dLi",
        "outputId": "35e45145-cf0d-4c14-941d-0dce9644ce38"
      },
      "execution_count": null,
      "outputs": [
        {
          "output_type": "execute_result",
          "data": {
            "text/plain": [
              "<IPython.core.display.HTML object>"
            ],
            "text/html": [
              "\n",
              "    <style>\n",
              "    .tag-container {\n",
              "        font-family: 'Segoe UI', Tahoma, Geneva, Verdana, sans-serif;\n",
              "        line-height: 2.2;\n",
              "        font-size: 17px;\n",
              "        padding: 15px;\n",
              "        background: #f8f9fa;\n",
              "        border-radius: 8px;\n",
              "        box-shadow: 0 2px 5px rgba(0,0,0,0.1);\n",
              "        margin: 10px 0;\n",
              "    }\n",
              "    .tag-label {\n",
              "        display: inline-block;\n",
              "        margin: 2px;\n",
              "        padding: 4px 8px;\n",
              "        border-radius: 12px;\n",
              "        font-weight: 500;\n",
              "        transition: transform 0.2s;\n",
              "        box-shadow: 0 1px 3px rgba(0,0,0,0.1);\n",
              "    }\n",
              "    .tag-label:hover {\n",
              "        transform: translateY(-2px);\n",
              "        box-shadow: 0 4px 6px rgba(0,0,0,0.1);\n",
              "    }\n",
              "    .noun { background: #94e2d5; color: #1e3a3a; }\n",
              "    .verb { background: #f38ba8; color: #4a1e2a; }\n",
              "    .adj  { background: #f9e2af; color: #3a3a1e; }\n",
              "    .adv  { background: #89b4fa; color: #1e2a3a; }\n",
              "    .pronoun { background: #cba6f7; color: #2a1e3a; }\n",
              "    .postposition { background: #fab387; color: #3a2a1e; }\n",
              "    .punctuation { background: #9399b2; color: white; }\n",
              "    .default { background: #d9d9d9; color: #333; }\n",
              "    .tag-type {\n",
              "        font-size: 0.7em;\n",
              "        margin-left: 4px;\n",
              "        opacity: 0.8;\n",
              "        font-weight: normal;\n",
              "    }\n",
              "    .legend {\n",
              "        display: flex;\n",
              "        flex-wrap: wrap;\n",
              "        gap: 8px;\n",
              "        margin-bottom: 15px;\n",
              "        font-size: 14px;\n",
              "    }\n",
              "    .legend-item {\n",
              "        display: flex;\n",
              "        align-items: center;\n",
              "        margin-right: 10px;\n",
              "    }\n",
              "    .legend-color {\n",
              "        width: 16px;\n",
              "        height: 16px;\n",
              "        border-radius: 50%;\n",
              "        margin-right: 5px;\n",
              "        display: inline-block;\n",
              "    }\n",
              "    </style>\n",
              "\n",
              "    <div class=\"tag-container\">\n",
              "        <div class=\"legend\">\n",
              "            <div class=\"legend-item\"><span class=\"legend-color\" style=\"background: #94e2d5\"></span>Noun</div>\n",
              "            <div class=\"legend-item\"><span class=\"legend-color\" style=\"background: #f38ba8\"></span>Verb</div>\n",
              "            <div class=\"legend-item\"><span class=\"legend-color\" style=\"background: #f9e2af\"></span>Adjective</div>\n",
              "            <div class=\"legend-item\"><span class=\"legend-color\" style=\"background: #89b4fa\"></span>Adverb</div>\n",
              "            <div class=\"legend-item\"><span class=\"legend-color\" style=\"background: #cba6f7\"></span>Pronoun</div>\n",
              "            <div class=\"legend-item\"><span class=\"legend-color\" style=\"background: #fab387\"></span>Postposition</div>\n",
              "            <div class=\"legend-item\"><span class=\"legend-color\" style=\"background: #9399b2\"></span>Punctuation</div>\n",
              "            <div class=\"legend-item\"><span class=\"legend-color\" style=\"background: #d9d9d9\"></span>Other</div>\n",
              "        </div>\n",
              "    <span class=\"tag-label noun\">प्रधानमंत्री<span class=\"tag-type\">NN</span></span><span class=\"tag-label pronoun\">ने<span class=\"tag-type\">PREP</span></span><span class=\"tag-label noun\">संसद<span class=\"tag-type\">NN</span></span><span class=\"tag-label pronoun\">में<span class=\"tag-type\">PREP</span></span><span class=\"tag-label default\">भाषण<span class=\"tag-type\">Unk</span></span><span class=\"tag-label default\">दिया<span class=\"tag-type\">VAUX</span></span></div>"
            ]
          },
          "metadata": {},
          "execution_count": 31
        }
      ]
    }
  ]
}